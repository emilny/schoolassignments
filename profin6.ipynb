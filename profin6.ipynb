{
  "nbformat": 4,
  "nbformat_minor": 0,
  "metadata": {
    "colab": {
      "name": "profin6.ipynb",
      "provenance": [],
      "include_colab_link": true
    },
    "kernelspec": {
      "display_name": "Python 3",
      "name": "python3"
    }
  },
  "cells": [
    {
      "cell_type": "markdown",
      "metadata": {
        "id": "view-in-github",
        "colab_type": "text"
      },
      "source": [
        "<a href=\"https://colab.research.google.com/github/emilny/schoolassignments/blob/main/profin6.ipynb\" target=\"_parent\"><img src=\"https://colab.research.google.com/assets/colab-badge.svg\" alt=\"Open In Colab\"/></a>"
      ]
    },
    {
      "cell_type": "markdown",
      "metadata": {
        "id": "fxJFz78ZtLL7"
      },
      "source": [
        "\n",
        "# Task 1\n",
        "\n",
        "The latest stock price S and historic volatility (Annualized Standard Deviation of returns assuming 251 trading days a year) was gathered from *osebx2020.xlsx*\n",
        "\n",
        "Furthermore, K is set to equal S since we are pricing an at-the-money option.\n",
        "\n",
        "Since no time horizon T for the simulation was given (only the averaging period of \"the last month\" was specified in the task) a full year of 251 trading days was used for simulating paths. However, only the 21 last trading days were included in the average computation for the Asian option. \n",
        "In other words, each simulation has 251 steps (or days), and the final 21 days determine the option's payoff.\n",
        "\n",
        "One clearly sees from experimentation that the variance in option value predicted here decreases as the number of simulations increases. In fact, since the option value is estimated as a mean, it's standard deviation is inversely proportional to the square root of ``` n_sims```.\n",
        "\n"
      ]
    },
    {
      "cell_type": "code",
      "metadata": {
        "id": "RbFprCiJOarE"
      },
      "source": [
        "import numpy as np\n",
        "\n",
        "S = 946.3 # Last close\n",
        "T = 1\n",
        "K = S # At the money option\n",
        "sigma = 0.181632015807428 # Approx historic volatility (annualized STDEV of returns) from excel\n",
        "\n",
        "rf = 0.025\n",
        "div = 0.04\n",
        "\n",
        "n_steps = 251  # Number of trading days in a year (1255 rows from 27/11/20 to 27/11/15 divided by 5 is 251)\n",
        "n_sims  = 50000\n",
        "h = T/n_steps\n",
        "\n",
        "u = (rf-div-0.5*sigma**2)*h\n",
        "\n",
        "v = sigma*np.sqrt(h)\n",
        "\n",
        "z = np.random.normal(0,1, size=(n_sims, n_steps))\n"
      ],
      "execution_count": 6,
      "outputs": []
    },
    {
      "cell_type": "code",
      "metadata": {
        "id": "AEBV9EbwlvG7"
      },
      "source": [
        "S_mtc = np.zeros(shape=(n_sims, n_steps))\n",
        "S_mtc[:,0] = S # All rows, on column 0 set to S\n",
        "\n",
        "for j in range(1, n_steps):\n",
        "  # This is where we simulate next step by multiplying previous step stock price\n",
        "  S_mtc[:,j] = S_mtc[:,j-1] * np.exp(u+v*z[:,j])\n",
        "\n"
      ],
      "execution_count": 7,
      "outputs": []
    },
    {
      "cell_type": "code",
      "metadata": {
        "id": "rzUdwqu2UtQb"
      },
      "source": [
        "# Now we need to calculate Asian option's value at the end of each simulation\n",
        "\n",
        "avgs = np.average(S_mtc[:,-21:], axis=1)  # Arithmetic average of final 21 days\n",
        "\n",
        "call_values = avgs - K  # Compute payoffs for Asian call option\n",
        "call_values = np.where(call_values < 0, 0, call_values) # Replace negative payoffs with 0\n",
        "\n",
        "put_values = K - avgs  # Compute payoffs for Asian put option\n",
        "put_values = np.where(put_values < 0, 0, put_values) # Replace negative payoffs with 0"
      ],
      "execution_count": 8,
      "outputs": []
    },
    {
      "cell_type": "code",
      "metadata": {
        "id": "_inpc7LMdLtg",
        "colab": {
          "base_uri": "https://localhost:8080/"
        },
        "outputId": "c1fb6291-fe51-49e5-ecb7-b4649acedba8"
      },
      "source": [
        "call_premium = np.average(call_values)*np.exp(-rf*T)\n",
        "put_premium = np.average(put_values)*np.exp(-rf*T)\n",
        "\n",
        "\n",
        "print(f\"Call premium: {call_premium}\\nPut premium: {put_premium}\")"
      ],
      "execution_count": 9,
      "outputs": [
        {
          "output_type": "stream",
          "text": [
            "Call premium: 58.03634336763833\n",
            "Put premium: 70.9067718988383\n"
          ],
          "name": "stdout"
        }
      ]
    },
    {
      "cell_type": "markdown",
      "metadata": {
        "id": "aIdpcS6S7C2g"
      },
      "source": [
        "# Not part of the task, just some experimentation\n",
        "\n",
        "Tesla options Monte Carlo simulation: \n",
        "\n",
        "\n",
        "Testing whether pricing in January of the September 500 puts was too high\n",
        "\n"
      ]
    },
    {
      "cell_type": "code",
      "metadata": {
        "id": "QChUwFy17BSU",
        "colab": {
          "base_uri": "https://localhost:8080/"
        },
        "outputId": "c7f3c0c6-fdae-4b9f-d74b-45b189e46699"
      },
      "source": [
        "S = 850 # Last close\n",
        "T = 9/12  # Six and a half months until expiration\n",
        "K = 500 # Strike price here, defauly is atm option\n",
        "sigma = 0.577739711405303 # Approx. historic volatility (annualized STDEV of returns) from excel\n",
        "\n",
        "rf = 0.001  # Based on US treasury bonds 6Mo and 1y yield\n",
        "div = 0.00  # No dividend yield\n",
        "\n",
        "n_steps = int(21*T*12)  # Number of trading days in a month times months to expiration\n",
        "n_sims  = 500000  # Number of simulations to run\n",
        "h = T/n_steps  # Time steps\n",
        "\n",
        "u = (rf-div-0.5*sigma**2)*h\n",
        "v = sigma*np.sqrt(h)\n",
        "z = np.random.normal(0,1, (n_sims, n_steps))  # Assuming returns are lognormally distributed\n",
        "\n",
        "# Begin simulation here\n",
        "S_mtc = np.zeros(shape=(n_sims, n_steps))\n",
        "S_mtc[:,0] = S # All rows, on column 0 set to S\n",
        "\n",
        "for j in range(1, n_steps):\n",
        "  # This is where we simulate next step by multiplying previous step stock price\n",
        "  S_mtc[:,j] = S_mtc[:,j-1] * np.exp(u+v*z[:,j])\n",
        "\n",
        "# Now we need to calculate European option's value at the end of each simulation\n",
        "last_prices = S_mtc[:,-1]  # Final day price for all simulations\n",
        "\n",
        "call_values = last_prices - K  # Compute payoffs for call option\n",
        "call_values = np.where(call_values < 0, 0, call_values) # Replace negative payoffs with 0\n",
        "\n",
        "put_values = K - last_prices  # Compute payoffs for put option\n",
        "put_values = np.where(put_values < 0, 0, put_values) # Replace negative payoffs with 0\n",
        "\n",
        "# Discount expected payoffs back to today\n",
        "call_premium = np.average(call_values)*np.exp(-rf*T) \n",
        "put_premium = np.average(put_values)*np.exp(-rf*T)\n",
        "\n",
        "print(f\"Call premium: {call_premium}\\nPut premium: {put_premium}\")"
      ],
      "execution_count": 10,
      "outputs": [
        {
          "output_type": "stream",
          "text": [
            "Call premium: 373.17928207406123\n",
            "Put premium: 23.486713922924086\n"
          ],
          "name": "stdout"
        }
      ]
    }
  ]
}